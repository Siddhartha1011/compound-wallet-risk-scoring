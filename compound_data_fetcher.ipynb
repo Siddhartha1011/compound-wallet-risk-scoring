{
 "cells": [
  {
   "cell_type": "markdown",
   "metadata": {},
   "source": [
    "# Fetch Data From Ids"
   ]
  },
  {
   "cell_type": "code",
   "execution_count": 47,
   "metadata": {},
   "outputs": [],
   "source": [
    "import requests\n",
    "import pandas as pd\n",
    "import os\n",
    "import time\n",
    "from tqdm import tqdm"
   ]
  },
  {
   "cell_type": "code",
   "execution_count": 48,
   "metadata": {},
   "outputs": [],
   "source": [
    "COVALENT_API_KEY = \"YOUR COVALENT_API_KEY\"\n",
    "CHAIN_ID = 1  # Ethereum mainnet"
   ]
  },
  {
   "cell_type": "code",
   "execution_count": 49,
   "metadata": {},
   "outputs": [],
   "source": [
    "# Compound V2 contract addresses (optional: narrow filtering)\n",
    "COMPOUND_V2_ADDRESSES = {\n",
    "    \"cETH\": \"0x4ddc2d193948926d02f9b1fe9e1daa0718270ed5\",\n",
    "    \"cDAI\": \"0x5d3a536e4d6dbd6114cc1ead35777bab948e3643\",\n",
    "    \"cUSDC\": \"0x39aa39c021dfbae8fac545936693ac917d5e7563\",\n",
    "    # Add more tokens as needed\n",
    "}"
   ]
  },
  {
   "cell_type": "code",
   "execution_count": 50,
   "metadata": {},
   "outputs": [],
   "source": [
    "def fetch_transactions(wallet_address):\n",
    "    url = f\"https://api.covalenthq.com/v1/{CHAIN_ID}/address/{wallet_address}/transactions_v2/\"\n",
    "    params = {\n",
    "        \"key\": COVALENT_API_KEY,\n",
    "        \"page-size\": 1000\n",
    "    }\n",
    "\n",
    "    try:\n",
    "        response = requests.get(url, params=params)\n",
    "        if response.status_code == 200:\n",
    "            return response.json()\n",
    "        else:\n",
    "            print(f\"Failed for {wallet_address} | Status code: {response.status_code}\")\n",
    "            return None\n",
    "    except Exception as e:\n",
    "        print(f\"Exception for {wallet_address}: {e}\")\n",
    "        return None"
   ]
  },
  {
   "cell_type": "code",
   "execution_count": 51,
   "metadata": {},
   "outputs": [],
   "source": [
    "def save_wallet_data(wallet_address, data, output_dir=\"raw_data\"):\n",
    "    os.makedirs(output_dir, exist_ok=True)\n",
    "    filepath = os.path.join(output_dir, f\"{wallet_address}.json\")\n",
    "    with open(filepath, \"w\") as f:\n",
    "        json.dump(data, f, indent=2)"
   ]
  },
  {
   "cell_type": "code",
   "execution_count": 52,
   "metadata": {},
   "outputs": [],
   "source": [
    "def main():\n",
    "    # Load wallets\n",
    "    df = pd.read_csv(\"wallet_id.csv\")\n",
    "    wallets = df['wallet_id'].dropna().unique().tolist()\n",
    "\n",
    "    print(f\"📦 Fetching data for {len(wallets)} wallets...\\n\")\n",
    "\n",
    "    for wallet in tqdm(wallets):\n",
    "        data = fetch_transactions(wallet)\n",
    "        if data:\n",
    "            save_wallet_data(wallet, data)\n",
    "        time.sleep(0.5)  # To avoid rate limits\n",
    "\n",
    "    print(\"\\n✅ Done. All raw transaction data saved in 'raw_data/' folder.\")"
   ]
  },
  {
   "cell_type": "code",
   "execution_count": 53,
   "metadata": {},
   "outputs": [
    {
     "name": "stdout",
     "output_type": "stream",
     "text": [
      "📦 Fetching data for 103 wallets...\n",
      "\n"
     ]
    },
    {
     "name": "stderr",
     "output_type": "stream",
     "text": [
      "  0%|          | 0/103 [00:00<?, ?it/s]"
     ]
    },
    {
     "name": "stderr",
     "output_type": "stream",
     "text": [
      "100%|██████████| 103/103 [10:21<00:00,  6.04s/it]"
     ]
    },
    {
     "name": "stdout",
     "output_type": "stream",
     "text": [
      "\n",
      "✅ Done. All raw transaction data saved in 'raw_data/' folder.\n"
     ]
    },
    {
     "name": "stderr",
     "output_type": "stream",
     "text": [
      "\n"
     ]
    }
   ],
   "source": [
    "if __name__ == \"__main__\":\n",
    "    main()"
   ]
  },
  {
   "cell_type": "markdown",
   "metadata": {},
   "source": [
    "# Extract & Filter Compound-Specific Interactions"
   ]
  },
  {
   "cell_type": "code",
   "execution_count": 54,
   "metadata": {},
   "outputs": [],
   "source": [
    "import os\n",
    "import json\n",
    "import pandas as pd\n",
    "from tqdm import tqdm"
   ]
  },
  {
   "cell_type": "code",
   "execution_count": 55,
   "metadata": {},
   "outputs": [],
   "source": [
    "RAW_DIR = \"raw_data\"\n",
    "OUTPUT_CSV = \"compound_transactions.csv\"\n"
   ]
  },
  {
   "cell_type": "code",
   "execution_count": 56,
   "metadata": {},
   "outputs": [],
   "source": [
    "# Heuristic: known Compound V2/V3 method names\n",
    "COMPOUND_METHODS = [\n",
    "    \"borrow\", \"repayBorrow\", \"repayBorrowBehalf\",\n",
    "    \"mint\", \"redeem\", \"redeemUnderlying\",\n",
    "    \"liquidateBorrow\"\n",
    "]\n"
   ]
  },
  {
   "cell_type": "code",
   "execution_count": 57,
   "metadata": {},
   "outputs": [],
   "source": [
    "def is_compound_interaction(tx):\n",
    "    logs = tx.get(\"log_events\", [])\n",
    "    for log in logs:\n",
    "        decoded = log.get(\"decoded\", None)\n",
    "        if decoded:\n",
    "            method = decoded.get(\"name\", \"\").lower()\n",
    "            if any(m.lower() in method for m in COMPOUND_METHODS):\n",
    "                return True\n",
    "    return False"
   ]
  },
  {
   "cell_type": "code",
   "execution_count": 58,
   "metadata": {},
   "outputs": [],
   "source": [
    "def extract_tx_details(tx, wallet_address):\n",
    "    logs = tx.get(\"log_events\", [])\n",
    "    method_name = None\n",
    "    for log in logs:\n",
    "        decoded = log.get(\"decoded\", None)\n",
    "        if decoded:\n",
    "            m = decoded.get(\"name\", \"\").lower()\n",
    "            if any(m.lower() in m for m in COMPOUND_METHODS):\n",
    "                method_name = m\n",
    "                break\n",
    "\n",
    "    return {\n",
    "        \"wallet\": wallet_address,\n",
    "        \"tx_hash\": tx[\"tx_hash\"],\n",
    "        \"block_signed_at\": tx[\"block_signed_at\"],\n",
    "        \"method\": method_name,\n",
    "        \"from_address\": tx[\"from_address\"],\n",
    "        \"to_address\": tx[\"to_address\"],\n",
    "        \"value_wei\": tx.get(\"value\", \"0\"),\n",
    "        \"value_usd\": tx.get(\"value_quote\", 0.0),\n",
    "        \"gas_price\": tx.get(\"gas_price\", 0),\n",
    "        \"gas_offered\": tx.get(\"gas_offered\", 0),\n",
    "        \"successful\": tx.get(\"successful\", False)\n",
    "    }"
   ]
  },
  {
   "cell_type": "code",
   "execution_count": 59,
   "metadata": {},
   "outputs": [],
   "source": [
    "def main():\n",
    "    all_data = []\n",
    "\n",
    "    for filename in tqdm(os.listdir(RAW_DIR)):\n",
    "        if not filename.endswith(\".json\"):\n",
    "            continue\n",
    "\n",
    "        wallet_address = filename.replace(\".json\", \"\")\n",
    "        path = os.path.join(RAW_DIR, filename)\n",
    "\n",
    "        with open(path, \"r\") as f:\n",
    "            content = json.load(f)\n",
    "\n",
    "        txs = content.get(\"data\", {}).get(\"items\", [])\n",
    "        for tx in txs:\n",
    "            if tx.get(\"log_events\") and is_compound_interaction(tx):\n",
    "                all_data.append(extract_tx_details(tx, wallet_address))\n",
    "\n",
    "    df = pd.DataFrame(all_data)\n",
    "    df.to_csv(OUTPUT_CSV, index=False)\n",
    "    print(f\"\\n✅ Saved filtered Compound transactions to: {OUTPUT_CSV}\")\n"
   ]
  },
  {
   "cell_type": "code",
   "execution_count": 60,
   "metadata": {},
   "outputs": [
    {
     "name": "stderr",
     "output_type": "stream",
     "text": [
      "100%|██████████| 103/103 [00:18<00:00,  5.61it/s]"
     ]
    },
    {
     "name": "stdout",
     "output_type": "stream",
     "text": [
      "\n",
      "✅ Saved filtered Compound transactions to: compound_transactions.csv\n"
     ]
    },
    {
     "name": "stderr",
     "output_type": "stream",
     "text": [
      "\n"
     ]
    }
   ],
   "source": [
    "if __name__ == \"__main__\":\n",
    "    main()"
   ]
  },
  {
   "cell_type": "markdown",
   "metadata": {},
   "source": [
    "#  Engineering Risk Features"
   ]
  },
  {
   "cell_type": "code",
   "execution_count": 61,
   "metadata": {},
   "outputs": [],
   "source": [
    "import pandas as pd\n",
    "import numpy as np"
   ]
  },
  {
   "cell_type": "code",
   "execution_count": 62,
   "metadata": {},
   "outputs": [],
   "source": [
    "# Load CSV\n",
    "df = pd.read_csv('compound_transactions.csv', parse_dates=['block_signed_at'])"
   ]
  },
  {
   "cell_type": "code",
   "execution_count": 63,
   "metadata": {},
   "outputs": [],
   "source": [
    "# Clean up boolean column\n",
    "df['successful'] = df['successful'].astype(bool)"
   ]
  },
  {
   "cell_type": "code",
   "execution_count": 64,
   "metadata": {},
   "outputs": [],
   "source": [
    "# Ensure method column is clean\n",
    "df['method'] = df['method'].fillna('').str.lower()"
   ]
  },
  {
   "cell_type": "code",
   "execution_count": 65,
   "metadata": {},
   "outputs": [],
   "source": [
    "# Feature 1: Total Borrowed USD\n",
    "borrow_df = df[df['method'] == 'borrow']\n",
    "borrowed = borrow_df.groupby('wallet')['value_usd'].sum().rename('total_borrowed_usd')"
   ]
  },
  {
   "cell_type": "code",
   "execution_count": 66,
   "metadata": {},
   "outputs": [],
   "source": [
    "# Feature 2: Total Repaid USD\n",
    "repay_df = df[df['method'].str.contains('repay')]\n",
    "repaid = repay_df.groupby('wallet')['value_usd'].sum().rename('total_repaid_usd')"
   ]
  },
  {
   "cell_type": "code",
   "execution_count": 67,
   "metadata": {},
   "outputs": [],
   "source": [
    "# Feature 3: Liquidation Count\n",
    "liquidated = df[df['method'] == 'liquidateborrow']\n",
    "liquidation_count = liquidated.groupby('wallet')['tx_hash'].count().rename('liquidation_count')"
   ]
  },
  {
   "cell_type": "code",
   "execution_count": 68,
   "metadata": {},
   "outputs": [],
   "source": [
    "# Feature 4: Activity Score (first and last tx + duration)\n",
    "activity = df.groupby('wallet')['block_signed_at'].agg(['min', 'max']).rename(columns={'min': 'first_tx_date', 'max': 'last_tx_date'})\n",
    "activity['activity_days'] = (activity['last_tx_date'] - activity['first_tx_date']).dt.days + 1"
   ]
  },
  {
   "cell_type": "code",
   "execution_count": 69,
   "metadata": {},
   "outputs": [],
   "source": [
    "# Feature 5: Bot Behavior\n",
    "gas_stats = df.groupby('wallet')[['gas_price', 'gas_offered']].mean().rename(columns={\n",
    "    'gas_price': 'avg_gas_price',\n",
    "    'gas_offered': 'avg_gas_offered'\n",
    "})"
   ]
  },
  {
   "cell_type": "code",
   "execution_count": 70,
   "metadata": {},
   "outputs": [],
   "source": [
    "# Feature 6: Transaction Count\n",
    "tx_count = df.groupby('wallet')['tx_hash'].count().rename('tx_count')"
   ]
  },
  {
   "cell_type": "code",
   "execution_count": 71,
   "metadata": {},
   "outputs": [],
   "source": [
    "# Merge All Features\n",
    "features = (\n",
    "    borrowed.to_frame()\n",
    "    .join(repaid, how='outer')\n",
    "    .join(liquidation_count, how='outer')\n",
    "    .join(activity, how='outer')\n",
    "    .join(gas_stats, how='outer')\n",
    "    .join(tx_count, how='outer')\n",
    ")"
   ]
  },
  {
   "cell_type": "code",
   "execution_count": 72,
   "metadata": {},
   "outputs": [],
   "source": [
    "# Fill NaNs with 0 for numerical features\n",
    "features.fillna({\n",
    "    'total_borrowed_usd': 0,\n",
    "    'total_repaid_usd': 0,\n",
    "    'liquidation_count': 0,\n",
    "    'avg_gas_price': 0,\n",
    "    'avg_gas_offered': 0,\n",
    "    'tx_count': 0,\n",
    "    'activity_days': 0\n",
    "}, inplace=True)"
   ]
  },
  {
   "cell_type": "code",
   "execution_count": 74,
   "metadata": {},
   "outputs": [
    {
     "data": {
      "text/html": [
       "<div>\n",
       "<style scoped>\n",
       "    .dataframe tbody tr th:only-of-type {\n",
       "        vertical-align: middle;\n",
       "    }\n",
       "\n",
       "    .dataframe tbody tr th {\n",
       "        vertical-align: top;\n",
       "    }\n",
       "\n",
       "    .dataframe thead th {\n",
       "        text-align: right;\n",
       "    }\n",
       "</style>\n",
       "<table border=\"1\" class=\"dataframe\">\n",
       "  <thead>\n",
       "    <tr style=\"text-align: right;\">\n",
       "      <th></th>\n",
       "      <th>wallet</th>\n",
       "      <th>total_borrowed_usd</th>\n",
       "      <th>total_repaid_usd</th>\n",
       "      <th>liquidation_count</th>\n",
       "      <th>first_tx_date</th>\n",
       "      <th>last_tx_date</th>\n",
       "      <th>activity_days</th>\n",
       "      <th>avg_gas_price</th>\n",
       "      <th>avg_gas_offered</th>\n",
       "      <th>tx_count</th>\n",
       "    </tr>\n",
       "  </thead>\n",
       "  <tbody>\n",
       "    <tr>\n",
       "      <th>0</th>\n",
       "      <td>0x0039f22efb07a647557c7c5d17854cfd6d489ef3</td>\n",
       "      <td>0.0</td>\n",
       "      <td>0.0</td>\n",
       "      <td>0.0</td>\n",
       "      <td>2020-09-17 07:31:49+00:00</td>\n",
       "      <td>2023-07-17 18:39:59+00:00</td>\n",
       "      <td>1034</td>\n",
       "      <td>1.097344e+11</td>\n",
       "      <td>7.965465e+05</td>\n",
       "      <td>47</td>\n",
       "    </tr>\n",
       "    <tr>\n",
       "      <th>1</th>\n",
       "      <td>0x06b51c6882b27cb05e712185531c1f74996dd988</td>\n",
       "      <td>0.0</td>\n",
       "      <td>0.0</td>\n",
       "      <td>0.0</td>\n",
       "      <td>2020-10-16 00:16:57+00:00</td>\n",
       "      <td>2020-10-16 00:16:57+00:00</td>\n",
       "      <td>1</td>\n",
       "      <td>5.000000e+10</td>\n",
       "      <td>2.477770e+05</td>\n",
       "      <td>1</td>\n",
       "    </tr>\n",
       "    <tr>\n",
       "      <th>2</th>\n",
       "      <td>0x0795732aacc448030ef374374eaae57d2965c16c</td>\n",
       "      <td>0.0</td>\n",
       "      <td>0.0</td>\n",
       "      <td>0.0</td>\n",
       "      <td>2020-11-25 13:13:37+00:00</td>\n",
       "      <td>2020-11-25 13:13:37+00:00</td>\n",
       "      <td>1</td>\n",
       "      <td>5.100000e+10</td>\n",
       "      <td>2.477770e+05</td>\n",
       "      <td>1</td>\n",
       "    </tr>\n",
       "    <tr>\n",
       "      <th>3</th>\n",
       "      <td>0x0aaa79f1a86bc8136cd0d1ca0d51964f4e3766f9</td>\n",
       "      <td>0.0</td>\n",
       "      <td>0.0</td>\n",
       "      <td>0.0</td>\n",
       "      <td>2019-07-28 05:17:20+00:00</td>\n",
       "      <td>2020-12-12 06:15:09+00:00</td>\n",
       "      <td>504</td>\n",
       "      <td>3.770000e+10</td>\n",
       "      <td>6.410347e+05</td>\n",
       "      <td>3</td>\n",
       "    </tr>\n",
       "    <tr>\n",
       "      <th>4</th>\n",
       "      <td>0x0fe383e5abc200055a7f391f94a5f5d1f844b9ae</td>\n",
       "      <td>0.0</td>\n",
       "      <td>0.0</td>\n",
       "      <td>0.0</td>\n",
       "      <td>2020-10-21 13:02:48+00:00</td>\n",
       "      <td>2020-10-21 13:02:48+00:00</td>\n",
       "      <td>1</td>\n",
       "      <td>4.300000e+10</td>\n",
       "      <td>2.477770e+05</td>\n",
       "      <td>1</td>\n",
       "    </tr>\n",
       "    <tr>\n",
       "      <th>...</th>\n",
       "      <td>...</td>\n",
       "      <td>...</td>\n",
       "      <td>...</td>\n",
       "      <td>...</td>\n",
       "      <td>...</td>\n",
       "      <td>...</td>\n",
       "      <td>...</td>\n",
       "      <td>...</td>\n",
       "      <td>...</td>\n",
       "      <td>...</td>\n",
       "    </tr>\n",
       "    <tr>\n",
       "      <th>95</th>\n",
       "      <td>0xf10fd8921019615a856c1e95c7cd3632de34edc4</td>\n",
       "      <td>0.0</td>\n",
       "      <td>0.0</td>\n",
       "      <td>0.0</td>\n",
       "      <td>2020-07-05 12:54:20+00:00</td>\n",
       "      <td>2020-09-20 12:38:15+00:00</td>\n",
       "      <td>77</td>\n",
       "      <td>7.950000e+10</td>\n",
       "      <td>3.120200e+05</td>\n",
       "      <td>2</td>\n",
       "    </tr>\n",
       "    <tr>\n",
       "      <th>96</th>\n",
       "      <td>0xf340b9f2098f80b86fbc5ede586c319473aa11f3</td>\n",
       "      <td>0.0</td>\n",
       "      <td>0.0</td>\n",
       "      <td>0.0</td>\n",
       "      <td>2021-03-19 20:35:51+00:00</td>\n",
       "      <td>2025-05-06 08:54:59+00:00</td>\n",
       "      <td>1509</td>\n",
       "      <td>1.567909e+11</td>\n",
       "      <td>2.852412e+05</td>\n",
       "      <td>25</td>\n",
       "    </tr>\n",
       "    <tr>\n",
       "      <th>97</th>\n",
       "      <td>0xf54f36bca969800fd7d63a68029561309938c09b</td>\n",
       "      <td>0.0</td>\n",
       "      <td>0.0</td>\n",
       "      <td>0.0</td>\n",
       "      <td>2020-12-14 07:49:21+00:00</td>\n",
       "      <td>2020-12-14 07:49:21+00:00</td>\n",
       "      <td>1</td>\n",
       "      <td>4.180000e+10</td>\n",
       "      <td>2.477770e+05</td>\n",
       "      <td>1</td>\n",
       "    </tr>\n",
       "    <tr>\n",
       "      <th>98</th>\n",
       "      <td>0xf60304b534f74977e159b2e159e135475c245526</td>\n",
       "      <td>0.0</td>\n",
       "      <td>0.0</td>\n",
       "      <td>0.0</td>\n",
       "      <td>2020-02-06 07:11:32+00:00</td>\n",
       "      <td>2020-03-21 15:53:16+00:00</td>\n",
       "      <td>45</td>\n",
       "      <td>2.531312e+10</td>\n",
       "      <td>1.451494e+06</td>\n",
       "      <td>10</td>\n",
       "    </tr>\n",
       "    <tr>\n",
       "      <th>99</th>\n",
       "      <td>0xf67e8e5805835465f7eba988259db882ab726800</td>\n",
       "      <td>0.0</td>\n",
       "      <td>0.0</td>\n",
       "      <td>0.0</td>\n",
       "      <td>2020-12-17 23:22:54+00:00</td>\n",
       "      <td>2020-12-17 23:22:54+00:00</td>\n",
       "      <td>1</td>\n",
       "      <td>4.500000e+10</td>\n",
       "      <td>2.477770e+05</td>\n",
       "      <td>1</td>\n",
       "    </tr>\n",
       "  </tbody>\n",
       "</table>\n",
       "<p>100 rows × 10 columns</p>\n",
       "</div>"
      ],
      "text/plain": [
       "                                        wallet  total_borrowed_usd  \\\n",
       "0   0x0039f22efb07a647557c7c5d17854cfd6d489ef3                 0.0   \n",
       "1   0x06b51c6882b27cb05e712185531c1f74996dd988                 0.0   \n",
       "2   0x0795732aacc448030ef374374eaae57d2965c16c                 0.0   \n",
       "3   0x0aaa79f1a86bc8136cd0d1ca0d51964f4e3766f9                 0.0   \n",
       "4   0x0fe383e5abc200055a7f391f94a5f5d1f844b9ae                 0.0   \n",
       "..                                         ...                 ...   \n",
       "95  0xf10fd8921019615a856c1e95c7cd3632de34edc4                 0.0   \n",
       "96  0xf340b9f2098f80b86fbc5ede586c319473aa11f3                 0.0   \n",
       "97  0xf54f36bca969800fd7d63a68029561309938c09b                 0.0   \n",
       "98  0xf60304b534f74977e159b2e159e135475c245526                 0.0   \n",
       "99  0xf67e8e5805835465f7eba988259db882ab726800                 0.0   \n",
       "\n",
       "    total_repaid_usd  liquidation_count             first_tx_date  \\\n",
       "0                0.0                0.0 2020-09-17 07:31:49+00:00   \n",
       "1                0.0                0.0 2020-10-16 00:16:57+00:00   \n",
       "2                0.0                0.0 2020-11-25 13:13:37+00:00   \n",
       "3                0.0                0.0 2019-07-28 05:17:20+00:00   \n",
       "4                0.0                0.0 2020-10-21 13:02:48+00:00   \n",
       "..               ...                ...                       ...   \n",
       "95               0.0                0.0 2020-07-05 12:54:20+00:00   \n",
       "96               0.0                0.0 2021-03-19 20:35:51+00:00   \n",
       "97               0.0                0.0 2020-12-14 07:49:21+00:00   \n",
       "98               0.0                0.0 2020-02-06 07:11:32+00:00   \n",
       "99               0.0                0.0 2020-12-17 23:22:54+00:00   \n",
       "\n",
       "                last_tx_date  activity_days  avg_gas_price  avg_gas_offered  \\\n",
       "0  2023-07-17 18:39:59+00:00           1034   1.097344e+11     7.965465e+05   \n",
       "1  2020-10-16 00:16:57+00:00              1   5.000000e+10     2.477770e+05   \n",
       "2  2020-11-25 13:13:37+00:00              1   5.100000e+10     2.477770e+05   \n",
       "3  2020-12-12 06:15:09+00:00            504   3.770000e+10     6.410347e+05   \n",
       "4  2020-10-21 13:02:48+00:00              1   4.300000e+10     2.477770e+05   \n",
       "..                       ...            ...            ...              ...   \n",
       "95 2020-09-20 12:38:15+00:00             77   7.950000e+10     3.120200e+05   \n",
       "96 2025-05-06 08:54:59+00:00           1509   1.567909e+11     2.852412e+05   \n",
       "97 2020-12-14 07:49:21+00:00              1   4.180000e+10     2.477770e+05   \n",
       "98 2020-03-21 15:53:16+00:00             45   2.531312e+10     1.451494e+06   \n",
       "99 2020-12-17 23:22:54+00:00              1   4.500000e+10     2.477770e+05   \n",
       "\n",
       "    tx_count  \n",
       "0         47  \n",
       "1          1  \n",
       "2          1  \n",
       "3          3  \n",
       "4          1  \n",
       "..       ...  \n",
       "95         2  \n",
       "96        25  \n",
       "97         1  \n",
       "98        10  \n",
       "99         1  \n",
       "\n",
       "[100 rows x 10 columns]"
      ]
     },
     "execution_count": 74,
     "metadata": {},
     "output_type": "execute_result"
    }
   ],
   "source": [
    "# Preview\n",
    "features.reset_index().head(100)"
   ]
  },
  {
   "cell_type": "code",
   "execution_count": 75,
   "metadata": {},
   "outputs": [],
   "source": [
    "# Save features to CSV\n",
    "features.reset_index().to_csv('compound_wallet_features.csv', index=False)"
   ]
  },
  {
   "cell_type": "markdown",
   "metadata": {},
   "source": [
    "# Risk Scoring Model"
   ]
  },
  {
   "cell_type": "code",
   "execution_count": 90,
   "metadata": {},
   "outputs": [],
   "source": [
    "import pandas as pd\n",
    "from sklearn.preprocessing import MinMaxScaler"
   ]
  },
  {
   "cell_type": "code",
   "execution_count": 91,
   "metadata": {},
   "outputs": [],
   "source": [
    "def load_features(file_path=\"compound_wallet_features.csv\"):\n",
    "    return pd.read_csv(file_path)"
   ]
  },
  {
   "cell_type": "code",
   "execution_count": 92,
   "metadata": {},
   "outputs": [],
   "source": [
    "def normalize_features(df, feature_cols, inverse_cols=[]):\n",
    "    scaler = MinMaxScaler()\n",
    "    df_scaled = df.copy()\n",
    "\n",
    "    for col in feature_cols:\n",
    "        if col in inverse_cols:\n",
    "            df_scaled[col] = 1 - scaler.fit_transform(df[[col]])\n",
    "        else:\n",
    "            df_scaled[col] = scaler.fit_transform(df[[col]])\n",
    "\n",
    "    return df_scaled"
   ]
  },
  {
   "cell_type": "code",
   "execution_count": 93,
   "metadata": {},
   "outputs": [],
   "source": [
    "def compute_risk_score(df):\n",
    "    # Define weights\n",
    "    weights = {\n",
    "        \"total_borrowed_usd\": 0.15,\n",
    "        \"total_repaid_usd\": 0.20,\n",
    "        \"liquidation_count\": 0.15,     # inverse\n",
    "        \"activity_days\": 0.15,\n",
    "        \"avg_gas_price\": 0.10,         # inverse\n",
    "        \"avg_gas_offered\": 0.05,       # inverse\n",
    "        \"tx_count\": 0.20\n",
    "    }\n",
    "\n",
    "    features = list(weights.keys())\n",
    "    inverse_cols = [\"liquidation_count\", \"avg_gas_price\", \"avg_gas_offered\"]\n",
    "\n",
    "    df_norm = normalize_features(df, features, inverse_cols)\n",
    "\n",
    "    # Weighted sum\n",
    "    df[\"score\"] = df_norm[features].dot([weights[col] for col in features])\n",
    "    df[\"score\"] = (df[\"score\"] * 1000).round().astype(int)\n",
    "\n",
    "    return df[[\"wallet\", \"score\"]]"
   ]
  },
  {
   "cell_type": "code",
   "execution_count": 94,
   "metadata": {},
   "outputs": [],
   "source": [
    "def save_scores(df, output_path=\"compound_wallet_risk_scores.csv\"):\n",
    "    df.to_csv(output_path, index=False)\n",
    "    print(f\"✅ Saved risk scores to: {output_path}\")"
   ]
  },
  {
   "cell_type": "code",
   "execution_count": 95,
   "metadata": {},
   "outputs": [
    {
     "name": "stdout",
     "output_type": "stream",
     "text": [
      "✅ Saved risk scores to: compound_wallet_risk_scores.csv\n"
     ]
    }
   ],
   "source": [
    "if __name__ == \"__main__\":\n",
    "    df_features = load_features(\"compound_wallet_features.csv\")\n",
    "    df_scores = compute_risk_score(df_features)\n",
    "    save_scores(df_scores)"
   ]
  }
 ],
 "metadata": {
  "kernelspec": {
   "display_name": "juypter",
   "language": "python",
   "name": "python3"
  },
  "language_info": {
   "codemirror_mode": {
    "name": "ipython",
    "version": 3
   },
   "file_extension": ".py",
   "mimetype": "text/x-python",
   "name": "python",
   "nbconvert_exporter": "python",
   "pygments_lexer": "ipython3",
   "version": "3.13.3"
  }
 },
 "nbformat": 4,
 "nbformat_minor": 2
}
